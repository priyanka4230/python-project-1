{
 "cells": [
  {
   "cell_type": "code",
   "execution_count": 9,
   "id": "ab33af7a-9833-4a1d-ba61-e2b5dca91ce7",
   "metadata": {},
   "outputs": [
    {
     "name": "stdout",
     "output_type": "stream",
     "text": [
      "Name:priyanka K r, USN:1AY24BT036, Section:N\n",
      "I'm thinking of a number between 1 and 20.\n"
     ]
    },
    {
     "name": "stdin",
     "output_type": "stream",
     "text": [
      "Take a guess:  5\n"
     ]
    },
    {
     "name": "stdout",
     "output_type": "stream",
     "text": [
      "Your guess is too high.\n"
     ]
    },
    {
     "name": "stdin",
     "output_type": "stream",
     "text": [
      "Take a guess:  6\n"
     ]
    },
    {
     "name": "stdout",
     "output_type": "stream",
     "text": [
      "Your guess is too high.\n"
     ]
    },
    {
     "name": "stdin",
     "output_type": "stream",
     "text": [
      "Take a guess:  7\n"
     ]
    },
    {
     "name": "stdout",
     "output_type": "stream",
     "text": [
      "Your guess is too high.\n"
     ]
    },
    {
     "name": "stdin",
     "output_type": "stream",
     "text": [
      "Take a guess:  3\n"
     ]
    },
    {
     "name": "stdout",
     "output_type": "stream",
     "text": [
      "Good job! You guessed my number in 4 guesses!\n"
     ]
    }
   ],
   "source": [
    " print(\"Name:priyanka K r, USN:1AY24BT036, Section:N\")\n",
    "\n",
    " import random\n",
    "\n",
    " secretNumber = random.randint(1, 20)\n",
    " print(\"I'm thinking of a number between 1 and 20.\")\n",
    "\n",
    " for guessesTaken in range(1, 7):\n",
    "     guess = int(input(\"Take a guess: \"))\n",
    "     if guess < secretNumber:\n",
    "         print(\"Your guess is too low.\")\n",
    "     elif guess > secretNumber:\n",
    "         print(\"Your guess is too high.\")\n",
    "     else:\n",
    "        break\n",
    " if guess == secretNumber:\n",
    "     print(f\"Good job! You guessed my number in {guessesTaken} guesses!\")\n",
    " else:\n",
    "     print(f\"Nope. The number I was thinking of was {secretNumber}.\")\n",
    "     \n",
    "    "
   ]
  },
  {
   "cell_type": "code",
   "execution_count": 5,
   "id": "9857ac58-aa9c-4122-9ff4-713edca5d505",
   "metadata": {},
   "outputs": [
    {
     "name": "stdout",
     "output_type": "stream",
     "text": [
      "Welcome to Rock, Paper, Scissors!\n"
     ]
    },
    {
     "name": "stdin",
     "output_type": "stream",
     "text": [
      "Enter your choice (rock, paper, or scissors):  scissors\n"
     ]
    },
    {
     "name": "stdout",
     "output_type": "stream",
     "text": [
      "Computer chose: rock\n",
      "Computer wins!\n"
     ]
    }
   ],
   "source": [
    "import random\n",
    "def determine_winner(player_choice, computer_choice):\n",
    "    if player_choice == computer_choice:\n",
    "        return \"It's a tie!\"\n",
    "    elif (player_choice == 'rock' and computer_choice == 'scissors') or (player_choice == 'scissors' and computer_choice == 'paper') or (player_choice == 'paper' and computer_choice == 'rock'):\n",
    "        return \"You win!\"\n",
    "    else:\n",
    "        return \"Computer wins!\"\n",
    "choices = ['rock', 'paper', 'scissors']\n",
    "print(\"Welcome to Rock, Paper, Scissors!\")\n",
    "player_choice = input(\"Enter your choice (rock, paper, or scissors): \").lower()\n",
    "if player_choice not in choices:\n",
    "   print(\"Invalid choice. Please choose rock, paper, or scissors.\")\n",
    "else:\n",
    "    computer_choice = random.choice(choices)\n",
    "    print(f\"Computer chose: {computer_choice}\")\n",
    "    result = determine_winner(player_choice, computer_choice)\n",
    "    print(result)"
   ]
  },
  {
   "cell_type": "code",
   "execution_count": 11,
   "id": "b0afe718-c533-4293-9388-ff37c36a2c2d",
   "metadata": {},
   "outputs": [
    {
     "name": "stdin",
     "output_type": "stream",
     "text": [
      "enter no. of steps for each pattern 3\n",
      "enter no. of patterns to be printed 2\n"
     ]
    },
    {
     "name": "stdout",
     "output_type": "stream",
     "text": [
      "*\n",
      " *\n",
      "  *\n",
      "   *\n",
      "  *\n",
      " *\n",
      "*\n",
      " *\n",
      "  *\n",
      "   *\n",
      "  *\n",
      " *\n"
     ]
    }
   ],
   "source": [
    "import time\n",
    "x=int(input(\"enter no. of steps for each pattern\"))\n",
    "y=int(input(\"enter no. of patterns to be printed\"))\n",
    "for i in range (y):\n",
    "    for i in range (x):\n",
    "        print(\" \"*i+\"*\")\n",
    "        time.sleep(0.5)\n",
    "    for i in range ((x),0,-1):\n",
    "        print(\" \"*i+\"*\")\n",
    "        time.sleep(0.5)"
   ]
  },
  {
   "cell_type": "code",
   "execution_count": 12,
   "id": "efa9f6e8-2168-4bee-a740-0b242c28cc71",
   "metadata": {},
   "outputs": [
    {
     "name": "stdout",
     "output_type": "stream",
     "text": [
      "Name:priyanka k r, USN:1AY24BT036, Section:N\n",
      "Generation 1\n",
      "# #     ##\n",
      "## #### # \n",
      "#   ## # #\n",
      "#  ## ####\n",
      "#  #  #  #\n",
      "   #     #\n",
      "# #  # ## \n",
      " ##  ## # \n",
      " #  ## ###\n",
      "###  #####\n",
      "\n",
      "--------------------\n",
      "\n",
      "Generation 2\n",
      "          \n",
      "  ##  #   \n",
      "  #       \n",
      " # #      \n",
      "  ## ##   \n",
      " #### ##  \n",
      "# #### ## \n",
      "  ##      \n",
      "   ##     \n",
      "  ####    \n",
      "\n",
      "--------------------\n",
      "\n",
      "Generation 3\n",
      "     #    \n",
      "  ##      \n",
      " #        \n",
      " # ##     \n",
      "     ###  \n",
      "        # \n",
      "     # ## \n",
      " #   #    \n",
      "     #    \n",
      "  #  #    \n",
      "\n",
      "--------------------\n",
      "\n"
     ]
    }
   ],
   "source": [
    " print(\"Name:priyanka k r, USN:1AY24BT036, Section:N\")\n",
    "\n",
    " import random, time, copy\n",
    "\n",
    " WIDTH = 10\n",
    " HEIGHT = 10\n",
    " steps = 3\n",
    " nextCells = []\n",
    " for x in range(WIDTH):\n",
    "     column = []\n",
    "     for y in range(HEIGHT):\n",
    "         if random.randint(0, 1) == 0:\n",
    "             column.append('#')\n",
    "         else:\n",
    "             column.append(' ')\n",
    "     nextCells.append(column)\n",
    "     \n",
    " for step in range(steps):\n",
    "     print(f\"Generation {step + 1}\")\n",
    "     currentCells = copy.deepcopy(nextCells)\n",
    "     \n",
    "     for y in range(HEIGHT):\n",
    "         for x in range(WIDTH):\n",
    "             print(currentCells[x][y], end='')\n",
    "         print()\n",
    "\n",
    "     for x in range(WIDTH):\n",
    "         for y in range(HEIGHT):\n",
    "            left = (x - 1) % WIDTH\n",
    "            right = (x + 1) % WIDTH\n",
    "            above = (y - 1) % HEIGHT\n",
    "            below = (y + 1) % HEIGHT\n",
    "             \n",
    "            numNeighbors = 0\n",
    "            if currentCells[left][above] == '#':\n",
    "                numNeighbors += 1\n",
    "            if currentCells[x][above] == '#':\n",
    "                numNeighbors += 1\n",
    "            if currentCells[right][above] == '#':\n",
    "                numNeighbors += 1\n",
    "            if currentCells[left][y] == '#':\n",
    "                numNeighbors += 1\n",
    "            if currentCells[right][y] == '#':\n",
    "                numNeighbors += 1\n",
    "            if currentCells[left][below] == '#':\n",
    "                numNeighbors += 1\n",
    "            if currentCells[x][below] == '#':\n",
    "                numNeighbors += 1\n",
    "            if currentCells[right][below] == '#':\n",
    "                numNeighbors += 1\n",
    "            if currentCells[x][y] == '#' and (numNeighbors == 2 or numNeighbors == 3):\n",
    "                nextCells[x][y] = '#'\n",
    "            elif currentCells[x][y] == ' ' and numNeighbors == 3:\n",
    "                nextCells[x][y] = '#'\n",
    "            else:\n",
    "                nextCells[x][y] = ' '\n",
    "     time.sleep(1)\n",
    "     print(\"\\n\" +\"-\"*20 + \"\\n\")\n"
   ]
  },
  {
   "cell_type": "code",
   "execution_count": 19,
   "id": "7fe1830a-39d6-40b3-bf2b-775a40b78ee6",
   "metadata": {},
   "outputs": [
    {
     "name": "stdout",
     "output_type": "stream",
     "text": [
      "Name:priyanka k r, USN:1AY24BT036, Section:N\n"
     ]
    },
    {
     "name": "stdin",
     "output_type": "stream",
     "text": [
      "Enter a positive integer:  5\n"
     ]
    },
    {
     "name": "stdout",
     "output_type": "stream",
     "text": [
      "5  16  8  4  2  1\n"
     ]
    }
   ],
   "source": [
    "print(\"Name:priyanka k r, USN:1AY24BT036, Section:N\")\n",
    "\n",
    "def collatz_sequence(n):\n",
    "    while n != 1:\n",
    "        print(n, end=\"  \")\n",
    "        if n % 2 == 0:\n",
    "            n //= 2 # Divide by 2 if even\n",
    "        else:\n",
    "            n = 3 * n + 1 # Multiplly by 3 and 1 if odd\n",
    "    print(1)  # The sequence always ends at 1\n",
    "#Get user input   \n",
    "num = int(input(\"Enter a positive integer: \"))\n",
    "collatz_sequence(num)"
   ]
  },
  {
   "cell_type": "code",
   "execution_count": 21,
   "id": "b5e117af-6f73-42e0-b92c-df2d96632d3f",
   "metadata": {},
   "outputs": [
    {
     "name": "stdout",
     "output_type": "stream",
     "text": [
      "Name:priyanka k r , USN: 1AY24BT036, section:N\n"
     ]
    },
    {
     "name": "stdin",
     "output_type": "stream",
     "text": [
      "enter no. of elements to be in list 5\n",
      "enter the element a\n",
      "enter the element b\n",
      "enter the element c\n",
      "enter the element d\n",
      "enter the element e\n"
     ]
    },
    {
     "name": "stdout",
     "output_type": "stream",
     "text": [
      "a, b, c, d, and e\n"
     ]
    }
   ],
   "source": [
    " print(\"Name:priyanka k r , USN: 1AY24BT036, section:N\")\n",
    "\n",
    " def comma_code(items):\n",
    "    if not items:\n",
    "        return ''\n",
    "    elif len(items) == 1:\n",
    "        return items[0]\n",
    "    else:\n",
    "        return ', '.join(items[:-1]) + ', and ' + items[-1]\n",
    " my_list = [ ]\n",
    " num=int(input('enter no. of elements to be in list'))\n",
    " for i in range (num):\n",
    "     ele=input('enter the element')\n",
    "     my_list.append(ele)\n",
    " formatted = comma_code(my_list)\n",
    " print(formatted)"
   ]
  },
  {
   "cell_type": "code",
   "execution_count": 26,
   "id": "e2634263-4382-4db0-92e3-e6feeb5ebbb7",
   "metadata": {},
   "outputs": [
    {
     "name": "stdout",
     "output_type": "stream",
     "text": [
      "piyanka k r,1AY24BT036, 'N'\n"
     ]
    },
    {
     "name": "stdin",
     "output_type": "stream",
     "text": [
      "Enter the number of coin flips:  2\n"
     ]
    },
    {
     "name": "stdout",
     "output_type": "stream",
     "text": [
      "Coin flips: Heads,Heads\n",
      "Longest streak: 2\n"
     ]
    }
   ],
   "source": [
    " import random\n",
    " print(\"piyanka k r,1AY24BT036, 'N'\")\n",
    "\n",
    " def flip_coin():\n",
    "     if random.randint(0, 1) == 0:\n",
    "         return 'Heads' \n",
    "     else: \n",
    "         return 'Tails'\n",
    " \n",
    " def count_streaks(flips):\n",
    "    longest_streak = current_streak = 1\n",
    "    for i in range(1, len(flips)):\n",
    "        if flips[i] == flips[i - 1]:  \n",
    "            current_streak += 1\n",
    "        else: \n",
    "            current_streak = 1\n",
    "       \n",
    "    longest_streak = current_streak\n",
    "    return longest_streak\n",
    " num_flips = int(input(\"Enter the number of coin flips: \"))\n",
    " flips = [flip_coin() for _ in range(num_flips)]\n",
    " longest_streak = count_streaks(flips)\n",
    " print(\"Coin flips:\",\",\".join(flips))\n",
    " print(f\"Longest streak: {longest_streak}\")"
   ]
  },
  {
   "cell_type": "code",
   "execution_count": 28,
   "id": "9df64260-d2fc-479a-a5d4-b379f8a75afe",
   "metadata": {},
   "outputs": [
    {
     "name": "stdout",
     "output_type": "stream",
     "text": [
      "Priyanka k r, USN: 1AY24BT036, Section: N\n",
      "Character Picture:\n",
      "\n",
      "..OO.OO..\n",
      ".OOOOOOO.\n",
      ".OOOOOOO.\n",
      "..OOOOO..\n",
      "...OOO...\n",
      "....O....\n"
     ]
    }
   ],
   "source": [
    " print(\"Priyanka k r, USN: 1AY24BT036, Section: N\")\n",
    "\n",
    " def print_character_picture(grid):\n",
    "     for y in range(len(grid[0])):\n",
    "         for x in range(len(grid)):\n",
    "             print(grid[x][y], end='')\n",
    "         print()\n",
    "         \n",
    " def main():\n",
    "    grid = [\n",
    "        ['.', '.', '.', '.', '.', '.'],\n",
    "        ['.', 'O', 'O', '.', '.', '.'],\n",
    "        ['O', 'O', 'O', 'O', '.', '.'],\n",
    "        ['O', 'O', 'O', 'O', 'O', '.'],\n",
    "        ['.', 'O', 'O', 'O', 'O', 'O'],\n",
    "        ['O', 'O', 'O', 'O', 'O', '.'],\n",
    "        ['O', 'O', 'O', 'O', '.', '.'],\n",
    "        ['.', 'O', 'O', '.', '.', '.'],\n",
    "        ['.', '.', '.', '.', '.', '.']\n",
    "    ]\n",
    "    print(\"Character Picture:\\n\")\n",
    "    print_character_picture(grid)\n",
    " main()"
   ]
  },
  {
   "cell_type": "code",
   "execution_count": 71,
   "id": "1c912415-6611-4531-819e-eedad749384d",
   "metadata": {},
   "outputs": [
    {
     "name": "stdout",
     "output_type": "stream",
     "text": [
      "Priyanka k r, USN: 1AY24Bt036, Section: N\n",
      "Enter chess pieces and their positions (type 'done' when finished):\n",
      "Pieces: K,Q,R,B,N,P (white uppercase), k,q,r,b,n,p (black lowercase), or leave blank for empty.\n",
      "Positions: a1 to h8\n"
     ]
    },
    {
     "name": "stdin",
     "output_type": "stream",
     "text": [
      "Enter position (or 'done' to finish):  a1\n",
      "Enter piece at a1 (empty for none):  bking\n"
     ]
    },
    {
     "name": "stdout",
     "output_type": "stream",
     "text": [
      "Invalid piece! Try again.\n"
     ]
    },
    {
     "name": "stdin",
     "output_type": "stream",
     "text": [
      "Enter position (or 'done' to finish):  h1\n",
      "Enter piece at h1 (empty for none):  wqueen\n"
     ]
    },
    {
     "name": "stdout",
     "output_type": "stream",
     "text": [
      "Invalid piece! Try again.\n"
     ]
    },
    {
     "name": "stdin",
     "output_type": "stream",
     "text": [
      "Enter position (or 'done' to finish):  done\n"
     ]
    },
    {
     "name": "stdout",
     "output_type": "stream",
     "text": [
      "\n",
      "Your chess dictionary:\n",
      "{}\n",
      "Chess dictionary is valid!\n"
     ]
    }
   ],
   "source": [
    "print(\"Priyanka k r, USN: 1AY24Bt036, Section: N\")\n",
    "\n",
    "def is_valid_position(pos):\n",
    "    return len(pos) == 2 and pos[0] in \"abcdefgh\" and pos[1] in \"12345678\"\n",
    "    \n",
    "def is_valid_piece(piece):\n",
    "    valid_pieces = ['K', 'Q', 'R', 'B', 'N', 'P', 'k', 'q', 'r', 'b', 'n', 'p', '']\n",
    "    return piece in valid_pieces\n",
    "    \n",
    "def main():\n",
    "    chess_dict = {}\n",
    "    print(\"Enter chess pieces and their positions (type 'done' when finished):\")\n",
    "    print(\"Pieces: K,Q,R,B,N,P (white uppercase), k,q,r,b,n,p (black lowercase), or leave blank for empty.\")\n",
    "    print(\"Positions: a1 to h8\")\n",
    "    \n",
    "    while True:\n",
    "        pos = input(\"Enter position (or 'done' to finish): \").strip().lower()\n",
    "        if pos == 'done':\n",
    "            break\n",
    "        if not is_valid_position(pos):\n",
    "             print(\"Invalid position! Try again.\")\n",
    "             continue\n",
    "            \n",
    "        piece = input(\"Enter piece at \" + pos + \" (empty for none): \").strip()\n",
    "        if not is_valid_piece(piece):\n",
    "            print(\"Invalid piece! Try again.\")\n",
    "            continue\n",
    "        \n",
    "        chess_dict[pos] = piece\n",
    "    \n",
    "    print(\"\\nYour chess dictionary:\")\n",
    "    print(chess_dict)\n",
    "    print(\"Chess dictionary is valid!\")\n",
    "    \n",
    "main()\n",
    "     "
   ]
  },
  {
   "cell_type": "code",
   "execution_count": 73,
   "id": "a6639670-ec8f-4637-9944-14ac93ab8230",
   "metadata": {},
   "outputs": [
    {
     "name": "stdout",
     "output_type": "stream",
     "text": [
      "Inventory:\n",
      "1 rope\n",
      "6 torch\n",
      "42 gold coin\n",
      "1 dagger\n",
      "12 arrow\n",
      "Total number of items: 62\n",
      "Inventory:\n",
      "1 rope\n",
      "6 torch\n",
      "45 gold coin\n",
      "2 dagger\n",
      "12 arrow\n",
      "1 ruby\n",
      "Total number of items: 67\n"
     ]
    }
   ],
   "source": [
    " def display_inventory(inventory):\n",
    "    \"\"\"Prints the current inventory.\"\"\"\n",
    "    print(\"Inventory:\")\n",
    "    item_count = 0\n",
    "    for item, quantity in inventory.items():\n",
    "        print(f\"{quantity} {item}\")\n",
    "        item_count += quantity\n",
    "    print(f\"Total number of items: {item_count}\")\n",
    "     \n",
    " def add_to_inventory(inventory, added_items):\n",
    "    \"\"\"Adds items from a list to the inventory.\"\"\"\n",
    "    for item in added_items:\n",
    "        \n",
    "        inventory[item] = inventory.get(item, 0) + 1\n",
    "    return inventory\n",
    " player_inventory = {'rope': 1, 'torch': 6, 'gold coin': 42, 'dagger': 1, 'arrow': 12}\n",
    " display_inventory(player_inventory)\n",
    "\n",
    " dragon_loot = ['gold coin', 'dagger', 'gold coin', 'gold coin', 'ruby']\n",
    " player_inventory = add_to_inventory(player_inventory, dragon_loot)\n",
    " display_inventory(player_inventory)"
   ]
  },
  {
   "cell_type": "code",
   "execution_count": 42,
   "id": "433335f0-b4fb-4b5e-a010-6aa54b3d40e1",
   "metadata": {},
   "outputs": [
    {
     "name": "stdout",
     "output_type": "stream",
     "text": [
      "priyanka k r, USN: 1AY24BT036, Section: N\n",
      "Enter the number of rows:\n"
     ]
    },
    {
     "name": "stdin",
     "output_type": "stream",
     "text": [
      " 3\n"
     ]
    },
    {
     "name": "stdout",
     "output_type": "stream",
     "text": [
      "Enter each row's values separated by commas:\n"
     ]
    },
    {
     "name": "stdin",
     "output_type": "stream",
     "text": [
      "Row 1:  cat,rat,bat\n",
      "Row 2:  1,2,3\n",
      "Row 3:  5,6,7\n"
     ]
    },
    {
     "name": "stdout",
     "output_type": "stream",
     "text": [
      "\n",
      "Formatted Table:\n",
      "str(item).ljust(col_ widths[i]), end= \n",
      "str(item).ljust(col_ widths[i]), end= \n",
      "str(item).ljust(col_ widths[i]), end= \n",
      "\n",
      "str(item).ljust(col_ widths[i]), end= \n",
      "str(item).ljust(col_ widths[i]), end= \n",
      "str(item).ljust(col_ widths[i]), end= \n",
      "\n",
      "str(item).ljust(col_ widths[i]), end= \n",
      "str(item).ljust(col_ widths[i]), end= \n",
      "str(item).ljust(col_ widths[i]), end= \n",
      "\n"
     ]
    }
   ],
   "source": [
    "print(\"priyanka k r, USN: 1AY24BT036, Section: N\")\n",
    "\n",
    "def print_table(table):\n",
    "    col_widths = [0] * len(table[0])\n",
    "    for row in table:\n",
    "        for i, item in enumerate(row):\n",
    "            col_widths[i] = max(col_widths[i], len(str(item)))\n",
    "    \n",
    "    # Print rows with padding\n",
    "    for row in table:\n",
    "        for i, item in enumerate(row):\n",
    "            print('str(item).ljust(col_ widths[i]), end= ')\n",
    "        print()\n",
    "        \n",
    "def main():\n",
    "    print(\"Enter the number of rows:\")\n",
    "    try:\n",
    "        rows = int(input())\n",
    "        if rows <= 0:\n",
    "            print(\"Number of rows should be positive.\")\n",
    "            return\n",
    "    except ValueError:\n",
    "         print(\"Invalid input.\")\n",
    "         return\n",
    "         \n",
    "    table = []\n",
    "    print(\"Enter each row's values separated by commas:\")\n",
    "    for r in range(rows):\n",
    "        row_input = input(f\"Row {r+1}: \").strip()\n",
    "        row = [x.strip() for x in row_input.split(',')]\n",
    "        table.append(row)\n",
    "        \n",
    "    print(\"\\nFormatted Table:\")\n",
    "    print_table(table)\n",
    "    \n",
    "main()"
   ]
  },
  {
   "cell_type": "code",
   "execution_count": null,
   "id": "98f1f2c9-60e0-4377-952f-e23f974a5863",
   "metadata": {},
   "outputs": [
    {
     "name": "stdout",
     "output_type": "stream",
     "text": [
      "\n",
      "--- Your turn ---\n",
      "\n",
      "You is rolling...\n",
      "  green die rolled: brain\n",
      "  yellow die rolled: brain\n",
      "  green die rolled: footsteps\n",
      "  You has 2 brains and 0 shotguns so far.\n"
     ]
    },
    {
     "name": "stdin",
     "output_type": "stream",
     "text": [
      "Roll again? (y/n):  y\n"
     ]
    },
    {
     "name": "stdout",
     "output_type": "stream",
     "text": [
      "\n",
      "You is rolling...\n",
      "  green die rolled: footsteps\n",
      "  green die rolled: brain\n",
      "  red die rolled: shotgun\n",
      "  You has 3 brains and 1 shotguns so far.\n"
     ]
    }
   ],
   "source": [
    "import random\n",
    "\n",
    "# Dice sides\n",
    "green = ['brain', 'brain', 'brain', 'footsteps', 'footsteps', 'shotgun']\n",
    "yellow = ['brain', 'brain', 'footsteps', 'footsteps', 'shotgun', 'shotgun']\n",
    "red = ['brain', 'footsteps', 'footsteps', 'shotgun', 'shotgun', 'shotgun']\n",
    "\n",
    "dice_cup = ['green'] * 6 + ['yellow'] * 4 + ['red'] * 3\n",
    "\n",
    "def roll_die(color):\n",
    "    if color == 'green':\n",
    "        return random.choice(green)\n",
    "    elif color == 'yellow':\n",
    "        return random.choice(yellow)\n",
    "    else:\n",
    "        return random.choice(red)\n",
    "        \n",
    "def play_turn(player_name, is_bot=False):\n",
    "    brains = 0\n",
    "    shotguns = 0\n",
    "    footsteps = []\n",
    "    cup = dice_cup[:]\n",
    "    \n",
    "    while True:\n",
    "        dice = footsteps\n",
    "        while len(dice) < 3 and cup:\n",
    "            die = random.choice(cup)\n",
    "            dice.append(die)\n",
    "            cup.remove(die)\n",
    "            \n",
    "        print(f\"\\n{player_name} is rolling...\")\n",
    "        footsteps = []\n",
    "        \n",
    "        for die in dice:\n",
    "            result = roll_die(die)\n",
    "            print(f\"  {die} die rolled: {result}\")\n",
    "            if result == 'brain':\n",
    "                brains += 1\n",
    "            elif result == 'shotgun':\n",
    "                shotguns += 1\n",
    "            elif result == 'footsteps':\n",
    " \n",
    "                footsteps.append(die)\n",
    "        print(f\"  {player_name} has {brains} brains and {shotguns} shotguns so far.\")\n",
    "        \n",
    "        if shotguns >= 3:\n",
    "            print(f\"  {player_name} got shot 3 times! No brains scored this turn.\")\n",
    "            return 0\n",
    "            \n",
    "        if is_bot:\n",
    "            if brains >= 2 or shotguns >= 2:\n",
    "                print(f\"  {player_name} (bot) stops rolling.\")\n",
    "                return brains\n",
    "        else:\n",
    "            choice = input(\"Roll again? (y/n): \").lower()\n",
    "            if choice != 'y':\n",
    "                return brains\n",
    "def main():\n",
    "    player_score = 0\n",
    "    bot_score = 0\n",
    "     \n",
    "    while True:\n",
    "        print(\"\\n--- Your turn ---\")\n",
    "        player_score += play_turn(\"You\", is_bot=False)\n",
    "        print(f\"Your total brains: {player_score}\")\n",
    "        print(\"\\n--- Bot's turn ---\")\n",
    "        bot_score += play_turn(\"Bot\", is_bot=True)\n",
    "        print(f\"Bot's total brains: {bot_score}\")\n",
    "        cont = input(\"\\nPlay another round? (y/n): \").lower()\n",
    "        if cont != 'y':\n",
    "            break\n",
    "            \n",
    "    print(\"\\nGame Over!\")\n",
    "    print(f\"Final Scores - You: {player_score} | Bot: {bot_score}\")\n",
    "    if player_score > bot_score:\n",
    "        print(\"You win! \")\n",
    "    elif bot_score > player_score:\n",
    "        print(\"Bot wins! \")\n",
    "    else:\n",
    "        print(\"It's a tie!\")\n",
    "\n",
    "main()"
   ]
  },
  {
   "cell_type": "code",
   "execution_count": null,
   "id": "a90a29b7-42c3-4570-9463-33e32973dcbb",
   "metadata": {},
   "outputs": [],
   "source": []
  }
 ],
 "metadata": {
  "kernelspec": {
   "display_name": "Python [conda env:base] *",
   "language": "python",
   "name": "conda-base-py"
  },
  "language_info": {
   "codemirror_mode": {
    "name": "ipython",
    "version": 3
   },
   "file_extension": ".py",
   "mimetype": "text/x-python",
   "name": "python",
   "nbconvert_exporter": "python",
   "pygments_lexer": "ipython3",
   "version": "3.12.7"
  }
 },
 "nbformat": 4,
 "nbformat_minor": 5
}
